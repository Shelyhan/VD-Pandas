{
 "cells": [
  {
   "cell_type": "markdown",
   "metadata": {},
   "source": [
    "![title](https://miro.medium.com/max/481/1*cxfqR8NAj8HGal8CVOZ7hg.png)\n",
    "\n",
    "#  Python Pandas: Tips & Tricks"
   ]
  },
  {
   "cell_type": "markdown",
   "metadata": {},
   "source": [
    "# #17: Resampling pada data deret waktu (time series data)"
   ]
  },
  {
   "cell_type": "markdown",
   "metadata": {},
   "source": [
    "## Import Modules"
   ]
  },
  {
   "cell_type": "markdown",
   "metadata": {},
   "source": [
    "- Kode di bawah ini untuk memberi tahu berapa versi pandas dan versi numpy kalian"
   ]
  },
  {
   "cell_type": "code",
   "execution_count": 1,
   "metadata": {},
   "outputs": [
    {
     "name": "stdout",
     "output_type": "stream",
     "text": [
      "1.1.3\n",
      "1.19.2\n"
     ]
    }
   ],
   "source": [
    "import pandas as pd\n",
    "import numpy as np\n",
    "\n",
    "print(pd.__version__)\n",
    "print(np.__version__)"
   ]
  },
  {
   "cell_type": "markdown",
   "metadata": {},
   "source": [
    "## Persiapan Data Frame"
   ]
  },
  {
   "cell_type": "markdown",
   "metadata": {},
   "source": [
    "- Pada variabel `'n_rows'` 24 merepresentasikan 24 jam dan 365                 merepresentasikan jumlah hari dalam satu tahun\n",
    "- Membentuk data deret waktu yang intervalnya adalah jam yang akan mengcover durasi selama setahun\n",
    "- Data Frame di bawah akan diisi oleh bilangan-bilangan integer yang dipilih secara acak atau random"
   ]
  },
  {
   "cell_type": "code",
   "execution_count": 3,
   "metadata": {},
   "outputs": [
    {
     "data": {
      "text/html": [
       "<div>\n",
       "<style scoped>\n",
       "    .dataframe tbody tr th:only-of-type {\n",
       "        vertical-align: middle;\n",
       "    }\n",
       "\n",
       "    .dataframe tbody tr th {\n",
       "        vertical-align: top;\n",
       "    }\n",
       "\n",
       "    .dataframe thead th {\n",
       "        text-align: right;\n",
       "    }\n",
       "</style>\n",
       "<table border=\"1\" class=\"dataframe\">\n",
       "  <thead>\n",
       "    <tr style=\"text-align: right;\">\n",
       "      <th></th>\n",
       "      <th>col1</th>\n",
       "      <th>col2</th>\n",
       "    </tr>\n",
       "  </thead>\n",
       "  <tbody>\n",
       "    <tr>\n",
       "      <th>2000-01-01 00:00:00</th>\n",
       "      <td>7</td>\n",
       "      <td>10</td>\n",
       "    </tr>\n",
       "    <tr>\n",
       "      <th>2000-01-01 01:00:00</th>\n",
       "      <td>2</td>\n",
       "      <td>2</td>\n",
       "    </tr>\n",
       "    <tr>\n",
       "      <th>2000-01-01 02:00:00</th>\n",
       "      <td>5</td>\n",
       "      <td>19</td>\n",
       "    </tr>\n",
       "    <tr>\n",
       "      <th>2000-01-01 03:00:00</th>\n",
       "      <td>8</td>\n",
       "      <td>15</td>\n",
       "    </tr>\n",
       "    <tr>\n",
       "      <th>2000-01-01 04:00:00</th>\n",
       "      <td>5</td>\n",
       "      <td>4</td>\n",
       "    </tr>\n",
       "    <tr>\n",
       "      <th>...</th>\n",
       "      <td>...</td>\n",
       "      <td>...</td>\n",
       "    </tr>\n",
       "    <tr>\n",
       "      <th>2000-12-30 19:00:00</th>\n",
       "      <td>18</td>\n",
       "      <td>16</td>\n",
       "    </tr>\n",
       "    <tr>\n",
       "      <th>2000-12-30 20:00:00</th>\n",
       "      <td>16</td>\n",
       "      <td>15</td>\n",
       "    </tr>\n",
       "    <tr>\n",
       "      <th>2000-12-30 21:00:00</th>\n",
       "      <td>16</td>\n",
       "      <td>1</td>\n",
       "    </tr>\n",
       "    <tr>\n",
       "      <th>2000-12-30 22:00:00</th>\n",
       "      <td>2</td>\n",
       "      <td>15</td>\n",
       "    </tr>\n",
       "    <tr>\n",
       "      <th>2000-12-30 23:00:00</th>\n",
       "      <td>3</td>\n",
       "      <td>2</td>\n",
       "    </tr>\n",
       "  </tbody>\n",
       "</table>\n",
       "<p>8760 rows × 2 columns</p>\n",
       "</div>"
      ],
      "text/plain": [
       "                     col1  col2\n",
       "2000-01-01 00:00:00     7    10\n",
       "2000-01-01 01:00:00     2     2\n",
       "2000-01-01 02:00:00     5    19\n",
       "2000-01-01 03:00:00     8    15\n",
       "2000-01-01 04:00:00     5     4\n",
       "...                   ...   ...\n",
       "2000-12-30 19:00:00    18    16\n",
       "2000-12-30 20:00:00    16    15\n",
       "2000-12-30 21:00:00    16     1\n",
       "2000-12-30 22:00:00     2    15\n",
       "2000-12-30 23:00:00     3     2\n",
       "\n",
       "[8760 rows x 2 columns]"
      ]
     },
     "execution_count": 3,
     "metadata": {},
     "output_type": "execute_result"
    }
   ],
   "source": [
    "n_rows = 365 * 24\n",
    "n_cols = 2\n",
    "cols = ['col1', 'col2']\n",
    "\n",
    "df = pd.DataFrame(np.random.randint(1, 20, size=(n_rows, n_cols)),\n",
    "                  columns=cols)\n",
    "\n",
    "df.index = pd.util.testing.makeDateIndex(n_rows, freq='H') # deret waktu\n",
    "df"
   ]
  },
  {
   "cell_type": "markdown",
   "metadata": {},
   "source": [
    "## Resampling data dengan interval monthly"
   ]
  },
  {
   "cell_type": "markdown",
   "metadata": {},
   "source": [
    "- Proses pengelompokan ulang data berdasarkan interval waktu tertentu\n",
    "- Mengubah interval waktunya berdasarkan bulan \n",
    "- Parameter `'M'` akan melakukan resampling ke berbasis bulan"
   ]
  },
  {
   "cell_type": "code",
   "execution_count": 4,
   "metadata": {},
   "outputs": [
    {
     "data": {
      "text/html": [
       "<div>\n",
       "<style scoped>\n",
       "    .dataframe tbody tr th:only-of-type {\n",
       "        vertical-align: middle;\n",
       "    }\n",
       "\n",
       "    .dataframe tbody tr th {\n",
       "        vertical-align: top;\n",
       "    }\n",
       "\n",
       "    .dataframe thead th {\n",
       "        text-align: right;\n",
       "    }\n",
       "</style>\n",
       "<table border=\"1\" class=\"dataframe\">\n",
       "  <thead>\n",
       "    <tr style=\"text-align: right;\">\n",
       "      <th></th>\n",
       "      <th>col1</th>\n",
       "    </tr>\n",
       "  </thead>\n",
       "  <tbody>\n",
       "    <tr>\n",
       "      <th>2000-01-31</th>\n",
       "      <td>7055</td>\n",
       "    </tr>\n",
       "    <tr>\n",
       "      <th>2000-02-29</th>\n",
       "      <td>6843</td>\n",
       "    </tr>\n",
       "    <tr>\n",
       "      <th>2000-03-31</th>\n",
       "      <td>7370</td>\n",
       "    </tr>\n",
       "    <tr>\n",
       "      <th>2000-04-30</th>\n",
       "      <td>7217</td>\n",
       "    </tr>\n",
       "    <tr>\n",
       "      <th>2000-05-31</th>\n",
       "      <td>7750</td>\n",
       "    </tr>\n",
       "    <tr>\n",
       "      <th>2000-06-30</th>\n",
       "      <td>7073</td>\n",
       "    </tr>\n",
       "    <tr>\n",
       "      <th>2000-07-31</th>\n",
       "      <td>7393</td>\n",
       "    </tr>\n",
       "    <tr>\n",
       "      <th>2000-08-31</th>\n",
       "      <td>7554</td>\n",
       "    </tr>\n",
       "    <tr>\n",
       "      <th>2000-09-30</th>\n",
       "      <td>7113</td>\n",
       "    </tr>\n",
       "    <tr>\n",
       "      <th>2000-10-31</th>\n",
       "      <td>7417</td>\n",
       "    </tr>\n",
       "    <tr>\n",
       "      <th>2000-11-30</th>\n",
       "      <td>7067</td>\n",
       "    </tr>\n",
       "    <tr>\n",
       "      <th>2000-12-31</th>\n",
       "      <td>7204</td>\n",
       "    </tr>\n",
       "  </tbody>\n",
       "</table>\n",
       "</div>"
      ],
      "text/plain": [
       "            col1\n",
       "2000-01-31  7055\n",
       "2000-02-29  6843\n",
       "2000-03-31  7370\n",
       "2000-04-30  7217\n",
       "2000-05-31  7750\n",
       "2000-06-30  7073\n",
       "2000-07-31  7393\n",
       "2000-08-31  7554\n",
       "2000-09-30  7113\n",
       "2000-10-31  7417\n",
       "2000-11-30  7067\n",
       "2000-12-31  7204"
      ]
     },
     "execution_count": 4,
     "metadata": {},
     "output_type": "execute_result"
    }
   ],
   "source": [
    "df.resample('M')['col1'].sum().to_frame()"
   ]
  },
  {
   "cell_type": "markdown",
   "metadata": {},
   "source": [
    "## Resampling data dengan interval daily"
   ]
  },
  {
   "cell_type": "markdown",
   "metadata": {},
   "source": [
    "- Mengubah interval waktunya berdasarkan harian"
   ]
  },
  {
   "cell_type": "code",
   "execution_count": 5,
   "metadata": {},
   "outputs": [
    {
     "data": {
      "text/html": [
       "<div>\n",
       "<style scoped>\n",
       "    .dataframe tbody tr th:only-of-type {\n",
       "        vertical-align: middle;\n",
       "    }\n",
       "\n",
       "    .dataframe tbody tr th {\n",
       "        vertical-align: top;\n",
       "    }\n",
       "\n",
       "    .dataframe thead th {\n",
       "        text-align: right;\n",
       "    }\n",
       "</style>\n",
       "<table border=\"1\" class=\"dataframe\">\n",
       "  <thead>\n",
       "    <tr style=\"text-align: right;\">\n",
       "      <th></th>\n",
       "      <th>col1</th>\n",
       "    </tr>\n",
       "  </thead>\n",
       "  <tbody>\n",
       "    <tr>\n",
       "      <th>2000-01-01</th>\n",
       "      <td>169</td>\n",
       "    </tr>\n",
       "    <tr>\n",
       "      <th>2000-01-02</th>\n",
       "      <td>192</td>\n",
       "    </tr>\n",
       "    <tr>\n",
       "      <th>2000-01-03</th>\n",
       "      <td>218</td>\n",
       "    </tr>\n",
       "    <tr>\n",
       "      <th>2000-01-04</th>\n",
       "      <td>179</td>\n",
       "    </tr>\n",
       "    <tr>\n",
       "      <th>2000-01-05</th>\n",
       "      <td>238</td>\n",
       "    </tr>\n",
       "    <tr>\n",
       "      <th>...</th>\n",
       "      <td>...</td>\n",
       "    </tr>\n",
       "    <tr>\n",
       "      <th>2000-12-26</th>\n",
       "      <td>235</td>\n",
       "    </tr>\n",
       "    <tr>\n",
       "      <th>2000-12-27</th>\n",
       "      <td>253</td>\n",
       "    </tr>\n",
       "    <tr>\n",
       "      <th>2000-12-28</th>\n",
       "      <td>245</td>\n",
       "    </tr>\n",
       "    <tr>\n",
       "      <th>2000-12-29</th>\n",
       "      <td>259</td>\n",
       "    </tr>\n",
       "    <tr>\n",
       "      <th>2000-12-30</th>\n",
       "      <td>281</td>\n",
       "    </tr>\n",
       "  </tbody>\n",
       "</table>\n",
       "<p>365 rows × 1 columns</p>\n",
       "</div>"
      ],
      "text/plain": [
       "            col1\n",
       "2000-01-01   169\n",
       "2000-01-02   192\n",
       "2000-01-03   218\n",
       "2000-01-04   179\n",
       "2000-01-05   238\n",
       "...          ...\n",
       "2000-12-26   235\n",
       "2000-12-27   253\n",
       "2000-12-28   245\n",
       "2000-12-29   259\n",
       "2000-12-30   281\n",
       "\n",
       "[365 rows x 1 columns]"
      ]
     },
     "execution_count": 5,
     "metadata": {},
     "output_type": "execute_result"
    }
   ],
   "source": [
    "df.resample('D')['col1'].sum().to_frame()"
   ]
  },
  {
   "cell_type": "markdown",
   "metadata": {},
   "source": [
    "#  #18: Membentuk dummy Data Frame"
   ]
  },
  {
   "cell_type": "markdown",
   "metadata": {},
   "source": [
    "## Import Modules"
   ]
  },
  {
   "cell_type": "markdown",
   "metadata": {},
   "source": [
    "- Kode di bawah ini untuk memberi tahu berapa versi pandas dan versi numpy kalian"
   ]
  },
  {
   "cell_type": "code",
   "execution_count": 1,
   "metadata": {},
   "outputs": [
    {
     "name": "stdout",
     "output_type": "stream",
     "text": [
      "1.1.3\n",
      "1.19.2\n"
     ]
    }
   ],
   "source": [
    "import pandas as pd\n",
    "import numpy as np\n",
    "\n",
    "print(pd.__version__)\n",
    "print(np.__version__)"
   ]
  },
  {
   "cell_type": "markdown",
   "metadata": {},
   "source": [
    "## Membentuk Data Frame dari Dictionary"
   ]
  },
  {
   "cell_type": "markdown",
   "metadata": {},
   "source": [
    "- Dictionary memiliki pasangan keys dan values\n",
    "- Key nya akan berkorelasi atau membentuk label kolom, sedangkan value nya akan   berisi data untuk kolom tersebut"
   ]
  },
  {
   "cell_type": "code",
   "execution_count": 2,
   "metadata": {},
   "outputs": [
    {
     "data": {
      "text/html": [
       "<div>\n",
       "<style scoped>\n",
       "    .dataframe tbody tr th:only-of-type {\n",
       "        vertical-align: middle;\n",
       "    }\n",
       "\n",
       "    .dataframe tbody tr th {\n",
       "        vertical-align: top;\n",
       "    }\n",
       "\n",
       "    .dataframe thead th {\n",
       "        text-align: right;\n",
       "    }\n",
       "</style>\n",
       "<table border=\"1\" class=\"dataframe\">\n",
       "  <thead>\n",
       "    <tr style=\"text-align: right;\">\n",
       "      <th></th>\n",
       "      <th>col1</th>\n",
       "      <th>col2</th>\n",
       "    </tr>\n",
       "  </thead>\n",
       "  <tbody>\n",
       "    <tr>\n",
       "      <th>0</th>\n",
       "      <td>1</td>\n",
       "      <td>5</td>\n",
       "    </tr>\n",
       "    <tr>\n",
       "      <th>1</th>\n",
       "      <td>2</td>\n",
       "      <td>6</td>\n",
       "    </tr>\n",
       "    <tr>\n",
       "      <th>2</th>\n",
       "      <td>3</td>\n",
       "      <td>7</td>\n",
       "    </tr>\n",
       "    <tr>\n",
       "      <th>3</th>\n",
       "      <td>4</td>\n",
       "      <td>8</td>\n",
       "    </tr>\n",
       "  </tbody>\n",
       "</table>\n",
       "</div>"
      ],
      "text/plain": [
       "   col1  col2\n",
       "0     1     5\n",
       "1     2     6\n",
       "2     3     7\n",
       "3     4     8"
      ]
     },
     "execution_count": 2,
     "metadata": {},
     "output_type": "execute_result"
    }
   ],
   "source": [
    "# dummy Data Frame\n",
    "pd.DataFrame({'col1':[1, 2, 3, 4],  # kolom 1\n",
    "              'col2':[5, 6, 7, 8]}) # kolom 2"
   ]
  },
  {
   "cell_type": "markdown",
   "metadata": {},
   "source": [
    "## Membentuk Data Frame dari Numpy Array"
   ]
  },
  {
   "cell_type": "markdown",
   "metadata": {},
   "source": [
    "- Data Frame di bawah memiliki 5 baris dan 3 kolom\n",
    "- Data Frame di bawah akan diisi oleh bilangan-bilangan integer yang dipilih     secara acak atau random"
   ]
  },
  {
   "cell_type": "code",
   "execution_count": 3,
   "metadata": {},
   "outputs": [
    {
     "data": {
      "text/plain": [
       "array([[11, 13, 15],\n",
       "       [ 6, 14,  7],\n",
       "       [ 2,  2, 11],\n",
       "       [ 3,  6, 13],\n",
       "       [12, 19,  8]])"
      ]
     },
     "execution_count": 3,
     "metadata": {},
     "output_type": "execute_result"
    }
   ],
   "source": [
    "# data array\n",
    "n_rows = 5\n",
    "n_cols = 3\n",
    "\n",
    "arr = np.random.randint(1, 20, size=(n_rows, n_cols))\n",
    "arr"
   ]
  },
  {
   "cell_type": "code",
   "execution_count": 4,
   "metadata": {},
   "outputs": [
    {
     "data": {
      "text/html": [
       "<div>\n",
       "<style scoped>\n",
       "    .dataframe tbody tr th:only-of-type {\n",
       "        vertical-align: middle;\n",
       "    }\n",
       "\n",
       "    .dataframe tbody tr th {\n",
       "        vertical-align: top;\n",
       "    }\n",
       "\n",
       "    .dataframe thead th {\n",
       "        text-align: right;\n",
       "    }\n",
       "</style>\n",
       "<table border=\"1\" class=\"dataframe\">\n",
       "  <thead>\n",
       "    <tr style=\"text-align: right;\">\n",
       "      <th></th>\n",
       "      <th>A</th>\n",
       "      <th>B</th>\n",
       "      <th>C</th>\n",
       "    </tr>\n",
       "  </thead>\n",
       "  <tbody>\n",
       "    <tr>\n",
       "      <th>0</th>\n",
       "      <td>11</td>\n",
       "      <td>13</td>\n",
       "      <td>15</td>\n",
       "    </tr>\n",
       "    <tr>\n",
       "      <th>1</th>\n",
       "      <td>6</td>\n",
       "      <td>14</td>\n",
       "      <td>7</td>\n",
       "    </tr>\n",
       "    <tr>\n",
       "      <th>2</th>\n",
       "      <td>2</td>\n",
       "      <td>2</td>\n",
       "      <td>11</td>\n",
       "    </tr>\n",
       "    <tr>\n",
       "      <th>3</th>\n",
       "      <td>3</td>\n",
       "      <td>6</td>\n",
       "      <td>13</td>\n",
       "    </tr>\n",
       "    <tr>\n",
       "      <th>4</th>\n",
       "      <td>12</td>\n",
       "      <td>19</td>\n",
       "      <td>8</td>\n",
       "    </tr>\n",
       "  </tbody>\n",
       "</table>\n",
       "</div>"
      ],
      "text/plain": [
       "    A   B   C\n",
       "0  11  13  15\n",
       "1   6  14   7\n",
       "2   2   2  11\n",
       "3   3   6  13\n",
       "4  12  19   8"
      ]
     },
     "execution_count": 4,
     "metadata": {},
     "output_type": "execute_result"
    }
   ],
   "source": [
    "pd.DataFrame(arr, columns=tuple('ABC'))"
   ]
  },
  {
   "cell_type": "markdown",
   "metadata": {},
   "source": [
    "## Membentuk Data Frame dengan memanfaatkan `pandas.util.testing`"
   ]
  },
  {
   "cell_type": "markdown",
   "metadata": {},
   "source": [
    "- Fungsi `pandas.util.testing` adalah untuk membentuk dummy data frame\n",
    "- Fungsi `head()` untuk menampilkan 5 baris pertama saja\n",
    "- Fungsi `makeMixedDataFrame()` adalah membentuk suatu data frame yang tipe       datanya campur\n",
    "- `makeTimeDataFrame()` berisi data frame deret waktu"
   ]
  },
  {
   "cell_type": "code",
   "execution_count": 5,
   "metadata": {},
   "outputs": [
    {
     "data": {
      "text/html": [
       "<div>\n",
       "<style scoped>\n",
       "    .dataframe tbody tr th:only-of-type {\n",
       "        vertical-align: middle;\n",
       "    }\n",
       "\n",
       "    .dataframe tbody tr th {\n",
       "        vertical-align: top;\n",
       "    }\n",
       "\n",
       "    .dataframe thead th {\n",
       "        text-align: right;\n",
       "    }\n",
       "</style>\n",
       "<table border=\"1\" class=\"dataframe\">\n",
       "  <thead>\n",
       "    <tr style=\"text-align: right;\">\n",
       "      <th></th>\n",
       "      <th>A</th>\n",
       "      <th>B</th>\n",
       "      <th>C</th>\n",
       "      <th>D</th>\n",
       "    </tr>\n",
       "  </thead>\n",
       "  <tbody>\n",
       "    <tr>\n",
       "      <th>YGIau44jSI</th>\n",
       "      <td>-1.349439</td>\n",
       "      <td>2.010367</td>\n",
       "      <td>-0.398968</td>\n",
       "      <td>0.241684</td>\n",
       "    </tr>\n",
       "    <tr>\n",
       "      <th>UffQtTogc5</th>\n",
       "      <td>-0.515909</td>\n",
       "      <td>0.412669</td>\n",
       "      <td>1.650839</td>\n",
       "      <td>-0.270157</td>\n",
       "    </tr>\n",
       "    <tr>\n",
       "      <th>7MP2ruJhyF</th>\n",
       "      <td>-0.250020</td>\n",
       "      <td>0.913252</td>\n",
       "      <td>0.761125</td>\n",
       "      <td>-0.415896</td>\n",
       "    </tr>\n",
       "    <tr>\n",
       "      <th>rrtMN0rrsZ</th>\n",
       "      <td>0.878860</td>\n",
       "      <td>-1.452973</td>\n",
       "      <td>2.200747</td>\n",
       "      <td>-1.709246</td>\n",
       "    </tr>\n",
       "    <tr>\n",
       "      <th>XbrM4sOAfE</th>\n",
       "      <td>1.460864</td>\n",
       "      <td>1.290619</td>\n",
       "      <td>0.056501</td>\n",
       "      <td>-0.871036</td>\n",
       "    </tr>\n",
       "  </tbody>\n",
       "</table>\n",
       "</div>"
      ],
      "text/plain": [
       "                   A         B         C         D\n",
       "YGIau44jSI -1.349439  2.010367 -0.398968  0.241684\n",
       "UffQtTogc5 -0.515909  0.412669  1.650839 -0.270157\n",
       "7MP2ruJhyF -0.250020  0.913252  0.761125 -0.415896\n",
       "rrtMN0rrsZ  0.878860 -1.452973  2.200747 -1.709246\n",
       "XbrM4sOAfE  1.460864  1.290619  0.056501 -0.871036"
      ]
     },
     "execution_count": 5,
     "metadata": {},
     "output_type": "execute_result"
    }
   ],
   "source": [
    "pd.util.testing.makeDataFrame().head()"
   ]
  },
  {
   "cell_type": "code",
   "execution_count": 6,
   "metadata": {},
   "outputs": [
    {
     "data": {
      "text/html": [
       "<div>\n",
       "<style scoped>\n",
       "    .dataframe tbody tr th:only-of-type {\n",
       "        vertical-align: middle;\n",
       "    }\n",
       "\n",
       "    .dataframe tbody tr th {\n",
       "        vertical-align: top;\n",
       "    }\n",
       "\n",
       "    .dataframe thead th {\n",
       "        text-align: right;\n",
       "    }\n",
       "</style>\n",
       "<table border=\"1\" class=\"dataframe\">\n",
       "  <thead>\n",
       "    <tr style=\"text-align: right;\">\n",
       "      <th></th>\n",
       "      <th>A</th>\n",
       "      <th>B</th>\n",
       "      <th>C</th>\n",
       "      <th>D</th>\n",
       "    </tr>\n",
       "  </thead>\n",
       "  <tbody>\n",
       "    <tr>\n",
       "      <th>0</th>\n",
       "      <td>0.0</td>\n",
       "      <td>0.0</td>\n",
       "      <td>foo1</td>\n",
       "      <td>2009-01-01</td>\n",
       "    </tr>\n",
       "    <tr>\n",
       "      <th>1</th>\n",
       "      <td>1.0</td>\n",
       "      <td>1.0</td>\n",
       "      <td>foo2</td>\n",
       "      <td>2009-01-02</td>\n",
       "    </tr>\n",
       "    <tr>\n",
       "      <th>2</th>\n",
       "      <td>2.0</td>\n",
       "      <td>0.0</td>\n",
       "      <td>foo3</td>\n",
       "      <td>2009-01-05</td>\n",
       "    </tr>\n",
       "    <tr>\n",
       "      <th>3</th>\n",
       "      <td>3.0</td>\n",
       "      <td>1.0</td>\n",
       "      <td>foo4</td>\n",
       "      <td>2009-01-06</td>\n",
       "    </tr>\n",
       "    <tr>\n",
       "      <th>4</th>\n",
       "      <td>4.0</td>\n",
       "      <td>0.0</td>\n",
       "      <td>foo5</td>\n",
       "      <td>2009-01-07</td>\n",
       "    </tr>\n",
       "  </tbody>\n",
       "</table>\n",
       "</div>"
      ],
      "text/plain": [
       "     A    B     C          D\n",
       "0  0.0  0.0  foo1 2009-01-01\n",
       "1  1.0  1.0  foo2 2009-01-02\n",
       "2  2.0  0.0  foo3 2009-01-05\n",
       "3  3.0  1.0  foo4 2009-01-06\n",
       "4  4.0  0.0  foo5 2009-01-07"
      ]
     },
     "execution_count": 6,
     "metadata": {},
     "output_type": "execute_result"
    }
   ],
   "source": [
    "pd.util.testing.makeMixedDataFrame().head()"
   ]
  },
  {
   "cell_type": "code",
   "execution_count": 7,
   "metadata": {},
   "outputs": [
    {
     "data": {
      "text/html": [
       "<div>\n",
       "<style scoped>\n",
       "    .dataframe tbody tr th:only-of-type {\n",
       "        vertical-align: middle;\n",
       "    }\n",
       "\n",
       "    .dataframe tbody tr th {\n",
       "        vertical-align: top;\n",
       "    }\n",
       "\n",
       "    .dataframe thead th {\n",
       "        text-align: right;\n",
       "    }\n",
       "</style>\n",
       "<table border=\"1\" class=\"dataframe\">\n",
       "  <thead>\n",
       "    <tr style=\"text-align: right;\">\n",
       "      <th></th>\n",
       "      <th>A</th>\n",
       "      <th>B</th>\n",
       "      <th>C</th>\n",
       "      <th>D</th>\n",
       "    </tr>\n",
       "  </thead>\n",
       "  <tbody>\n",
       "    <tr>\n",
       "      <th>2000-01-03</th>\n",
       "      <td>0.182558</td>\n",
       "      <td>0.449402</td>\n",
       "      <td>0.440205</td>\n",
       "      <td>0.814457</td>\n",
       "    </tr>\n",
       "    <tr>\n",
       "      <th>2000-01-04</th>\n",
       "      <td>0.524906</td>\n",
       "      <td>-0.209345</td>\n",
       "      <td>0.498653</td>\n",
       "      <td>0.353571</td>\n",
       "    </tr>\n",
       "    <tr>\n",
       "      <th>2000-01-05</th>\n",
       "      <td>-0.158945</td>\n",
       "      <td>-2.085233</td>\n",
       "      <td>-0.989379</td>\n",
       "      <td>-0.719270</td>\n",
       "    </tr>\n",
       "    <tr>\n",
       "      <th>2000-01-06</th>\n",
       "      <td>-0.968223</td>\n",
       "      <td>-0.232923</td>\n",
       "      <td>-0.121683</td>\n",
       "      <td>0.569513</td>\n",
       "    </tr>\n",
       "    <tr>\n",
       "      <th>2000-01-07</th>\n",
       "      <td>0.922599</td>\n",
       "      <td>0.247037</td>\n",
       "      <td>0.659859</td>\n",
       "      <td>-1.913321</td>\n",
       "    </tr>\n",
       "  </tbody>\n",
       "</table>\n",
       "</div>"
      ],
      "text/plain": [
       "                   A         B         C         D\n",
       "2000-01-03  0.182558  0.449402  0.440205  0.814457\n",
       "2000-01-04  0.524906 -0.209345  0.498653  0.353571\n",
       "2000-01-05 -0.158945 -2.085233 -0.989379 -0.719270\n",
       "2000-01-06 -0.968223 -0.232923 -0.121683  0.569513\n",
       "2000-01-07  0.922599  0.247037  0.659859 -1.913321"
      ]
     },
     "execution_count": 7,
     "metadata": {},
     "output_type": "execute_result"
    }
   ],
   "source": [
    "pd.util.testing.makeTimeDataFrame().head()"
   ]
  },
  {
   "cell_type": "code",
   "execution_count": 8,
   "metadata": {},
   "outputs": [
    {
     "data": {
      "text/html": [
       "<div>\n",
       "<style scoped>\n",
       "    .dataframe tbody tr th:only-of-type {\n",
       "        vertical-align: middle;\n",
       "    }\n",
       "\n",
       "    .dataframe tbody tr th {\n",
       "        vertical-align: top;\n",
       "    }\n",
       "\n",
       "    .dataframe thead th {\n",
       "        text-align: right;\n",
       "    }\n",
       "</style>\n",
       "<table border=\"1\" class=\"dataframe\">\n",
       "  <thead>\n",
       "    <tr style=\"text-align: right;\">\n",
       "      <th></th>\n",
       "      <th>A</th>\n",
       "      <th>B</th>\n",
       "      <th>C</th>\n",
       "      <th>D</th>\n",
       "    </tr>\n",
       "  </thead>\n",
       "  <tbody>\n",
       "    <tr>\n",
       "      <th>j50uXsUJmf</th>\n",
       "      <td>0.295986</td>\n",
       "      <td>0.702802</td>\n",
       "      <td>0.613237</td>\n",
       "      <td>2.148918</td>\n",
       "    </tr>\n",
       "    <tr>\n",
       "      <th>V6reXShfKL</th>\n",
       "      <td>-0.205961</td>\n",
       "      <td>0.881759</td>\n",
       "      <td>-1.280412</td>\n",
       "      <td>1.085760</td>\n",
       "    </tr>\n",
       "    <tr>\n",
       "      <th>Z48eNdDJAD</th>\n",
       "      <td>0.273121</td>\n",
       "      <td>-0.801470</td>\n",
       "      <td>0.570949</td>\n",
       "      <td>2.500706</td>\n",
       "    </tr>\n",
       "    <tr>\n",
       "      <th>1RgBuer3l8</th>\n",
       "      <td>NaN</td>\n",
       "      <td>1.208887</td>\n",
       "      <td>0.495262</td>\n",
       "      <td>0.262521</td>\n",
       "    </tr>\n",
       "    <tr>\n",
       "      <th>NuOBo7vabq</th>\n",
       "      <td>1.667019</td>\n",
       "      <td>NaN</td>\n",
       "      <td>0.647313</td>\n",
       "      <td>-2.092675</td>\n",
       "    </tr>\n",
       "  </tbody>\n",
       "</table>\n",
       "</div>"
      ],
      "text/plain": [
       "                   A         B         C         D\n",
       "j50uXsUJmf  0.295986  0.702802  0.613237  2.148918\n",
       "V6reXShfKL -0.205961  0.881759 -1.280412  1.085760\n",
       "Z48eNdDJAD  0.273121 -0.801470  0.570949  2.500706\n",
       "1RgBuer3l8       NaN  1.208887  0.495262  0.262521\n",
       "NuOBo7vabq  1.667019       NaN  0.647313 -2.092675"
      ]
     },
     "execution_count": 8,
     "metadata": {},
     "output_type": "execute_result"
    }
   ],
   "source": [
    "pd.util.testing.makeMissingDataframe().head() # missing value"
   ]
  },
  {
   "cell_type": "markdown",
   "metadata": {},
   "source": [
    "# #19: Formatting tampilan Data Frame"
   ]
  },
  {
   "cell_type": "markdown",
   "metadata": {},
   "source": [
    "## Import Modules"
   ]
  },
  {
   "cell_type": "markdown",
   "metadata": {},
   "source": [
    "- Kode di bawah ini untuk memberi tahu berapa versi pandas dan versi numpy kalian"
   ]
  },
  {
   "cell_type": "code",
   "execution_count": 9,
   "metadata": {},
   "outputs": [
    {
     "name": "stdout",
     "output_type": "stream",
     "text": [
      "1.1.3\n",
      "1.19.2\n"
     ]
    }
   ],
   "source": [
    "import pandas as pd\n",
    "import numpy as np\n",
    "\n",
    "print(pd.__version__)\n",
    "print(np.__version__)"
   ]
  },
  {
   "cell_type": "markdown",
   "metadata": {},
   "source": [
    "## Persiapan Data Frame"
   ]
  },
  {
   "cell_type": "markdown",
   "metadata": {},
   "source": [
    "- Membentuk Data Frame sederhana yang terdiri dari 5 baris dan 2 kolom"
   ]
  },
  {
   "cell_type": "code",
   "execution_count": 10,
   "metadata": {},
   "outputs": [
    {
     "data": {
      "text/html": [
       "<div>\n",
       "<style scoped>\n",
       "    .dataframe tbody tr th:only-of-type {\n",
       "        vertical-align: middle;\n",
       "    }\n",
       "\n",
       "    .dataframe tbody tr th {\n",
       "        vertical-align: top;\n",
       "    }\n",
       "\n",
       "    .dataframe thead th {\n",
       "        text-align: right;\n",
       "    }\n",
       "</style>\n",
       "<table border=\"1\" class=\"dataframe\">\n",
       "  <thead>\n",
       "    <tr style=\"text-align: right;\">\n",
       "      <th></th>\n",
       "      <th>omset</th>\n",
       "      <th>operasional</th>\n",
       "    </tr>\n",
       "  </thead>\n",
       "  <tbody>\n",
       "    <tr>\n",
       "      <th>0</th>\n",
       "      <td>17</td>\n",
       "      <td>5</td>\n",
       "    </tr>\n",
       "    <tr>\n",
       "      <th>1</th>\n",
       "      <td>13</td>\n",
       "      <td>10</td>\n",
       "    </tr>\n",
       "    <tr>\n",
       "      <th>2</th>\n",
       "      <td>16</td>\n",
       "      <td>13</td>\n",
       "    </tr>\n",
       "    <tr>\n",
       "      <th>3</th>\n",
       "      <td>11</td>\n",
       "      <td>8</td>\n",
       "    </tr>\n",
       "    <tr>\n",
       "      <th>4</th>\n",
       "      <td>17</td>\n",
       "      <td>12</td>\n",
       "    </tr>\n",
       "  </tbody>\n",
       "</table>\n",
       "</div>"
      ],
      "text/plain": [
       "   omset  operasional\n",
       "0     17            5\n",
       "1     13           10\n",
       "2     16           13\n",
       "3     11            8\n",
       "4     17           12"
      ]
     },
     "execution_count": 10,
     "metadata": {},
     "output_type": "execute_result"
    }
   ],
   "source": [
    "n_rows = 5\n",
    "n_cols = 2\n",
    "cols = ['omset', 'operasional']\n",
    "\n",
    "df = pd.DataFrame(np.random.randint(1, 20, size=(n_rows, n_cols)),\n",
    "                  columns=cols)\n",
    "df"
   ]
  },
  {
   "cell_type": "code",
   "execution_count": 11,
   "metadata": {},
   "outputs": [
    {
     "data": {
      "text/html": [
       "<div>\n",
       "<style scoped>\n",
       "    .dataframe tbody tr th:only-of-type {\n",
       "        vertical-align: middle;\n",
       "    }\n",
       "\n",
       "    .dataframe tbody tr th {\n",
       "        vertical-align: top;\n",
       "    }\n",
       "\n",
       "    .dataframe thead th {\n",
       "        text-align: right;\n",
       "    }\n",
       "</style>\n",
       "<table border=\"1\" class=\"dataframe\">\n",
       "  <thead>\n",
       "    <tr style=\"text-align: right;\">\n",
       "      <th></th>\n",
       "      <th>omset</th>\n",
       "      <th>operasional</th>\n",
       "    </tr>\n",
       "  </thead>\n",
       "  <tbody>\n",
       "    <tr>\n",
       "      <th>0</th>\n",
       "      <td>1700000</td>\n",
       "      <td>50000</td>\n",
       "    </tr>\n",
       "    <tr>\n",
       "      <th>1</th>\n",
       "      <td>1300000</td>\n",
       "      <td>100000</td>\n",
       "    </tr>\n",
       "    <tr>\n",
       "      <th>2</th>\n",
       "      <td>1600000</td>\n",
       "      <td>130000</td>\n",
       "    </tr>\n",
       "    <tr>\n",
       "      <th>3</th>\n",
       "      <td>1100000</td>\n",
       "      <td>80000</td>\n",
       "    </tr>\n",
       "    <tr>\n",
       "      <th>4</th>\n",
       "      <td>1700000</td>\n",
       "      <td>120000</td>\n",
       "    </tr>\n",
       "  </tbody>\n",
       "</table>\n",
       "</div>"
      ],
      "text/plain": [
       "     omset  operasional\n",
       "0  1700000        50000\n",
       "1  1300000       100000\n",
       "2  1600000       130000\n",
       "3  1100000        80000\n",
       "4  1700000       120000"
      ]
     },
     "execution_count": 11,
     "metadata": {},
     "output_type": "execute_result"
    }
   ],
   "source": [
    "# konversikan ke rupiah\n",
    "df['omset'] = df['omset'] * 100_000 \n",
    "df['operasional'] = df['operasional'] * 10_000\n",
    "df"
   ]
  },
  {
   "cell_type": "code",
   "execution_count": 12,
   "metadata": {},
   "outputs": [
    {
     "data": {
      "text/html": [
       "<div>\n",
       "<style scoped>\n",
       "    .dataframe tbody tr th:only-of-type {\n",
       "        vertical-align: middle;\n",
       "    }\n",
       "\n",
       "    .dataframe tbody tr th {\n",
       "        vertical-align: top;\n",
       "    }\n",
       "\n",
       "    .dataframe thead th {\n",
       "        text-align: right;\n",
       "    }\n",
       "</style>\n",
       "<table border=\"1\" class=\"dataframe\">\n",
       "  <thead>\n",
       "    <tr style=\"text-align: right;\">\n",
       "      <th></th>\n",
       "      <th>tanggal</th>\n",
       "      <th>omset</th>\n",
       "      <th>operasional</th>\n",
       "    </tr>\n",
       "  </thead>\n",
       "  <tbody>\n",
       "    <tr>\n",
       "      <th>0</th>\n",
       "      <td>2000-01-01</td>\n",
       "      <td>1700000</td>\n",
       "      <td>50000</td>\n",
       "    </tr>\n",
       "    <tr>\n",
       "      <th>1</th>\n",
       "      <td>2000-01-02</td>\n",
       "      <td>1300000</td>\n",
       "      <td>100000</td>\n",
       "    </tr>\n",
       "    <tr>\n",
       "      <th>2</th>\n",
       "      <td>2000-01-03</td>\n",
       "      <td>1600000</td>\n",
       "      <td>130000</td>\n",
       "    </tr>\n",
       "    <tr>\n",
       "      <th>3</th>\n",
       "      <td>2000-01-04</td>\n",
       "      <td>1100000</td>\n",
       "      <td>80000</td>\n",
       "    </tr>\n",
       "    <tr>\n",
       "      <th>4</th>\n",
       "      <td>2000-01-05</td>\n",
       "      <td>1700000</td>\n",
       "      <td>120000</td>\n",
       "    </tr>\n",
       "  </tbody>\n",
       "</table>\n",
       "</div>"
      ],
      "text/plain": [
       "     tanggal    omset  operasional\n",
       "0 2000-01-01  1700000        50000\n",
       "1 2000-01-02  1300000       100000\n",
       "2 2000-01-03  1600000       130000\n",
       "3 2000-01-04  1100000        80000\n",
       "4 2000-01-05  1700000       120000"
      ]
     },
     "execution_count": 12,
     "metadata": {},
     "output_type": "execute_result"
    }
   ],
   "source": [
    "# membentuk kolom baru tanggal\n",
    "df.index = pd.util.testing.makeDateIndex(n_rows, freq='D') # D=Daily\n",
    "df = df.reset_index()\n",
    "df = df.rename(columns={'index':'tanggal'}) # mengubah nama kolom\n",
    "df"
   ]
  },
  {
   "cell_type": "markdown",
   "metadata": {},
   "source": [
    "## Melakukan formatting tampilan Data Frame"
   ]
  },
  {
   "cell_type": "markdown",
   "metadata": {},
   "source": [
    "- Sebuah dictionary ditampung ke dalam sebuah variabel dengan nama `formatku`\n",
    "- Urutan kolomnya tidak harus sesuai dengan urutan pada data framenya\n",
    "- Data di bawah memiliki 3 keys, values untuk setiap keys nya akan berisi         formatting terhadap datanya "
   ]
  },
  {
   "cell_type": "code",
   "execution_count": 13,
   "metadata": {},
   "outputs": [
    {
     "data": {
      "text/html": [
       "<style  type=\"text/css\" >\n",
       "</style><table id=\"T_3c7611da_2c92_11ec_8d21_9828a63677eb\" ><thead>    <tr>        <th class=\"blank level0\" ></th>        <th class=\"col_heading level0 col0\" >tanggal</th>        <th class=\"col_heading level0 col1\" >omset</th>        <th class=\"col_heading level0 col2\" >operasional</th>    </tr></thead><tbody>\n",
       "                <tr>\n",
       "                        <th id=\"T_3c7611da_2c92_11ec_8d21_9828a63677eblevel0_row0\" class=\"row_heading level0 row0\" >0</th>\n",
       "                        <td id=\"T_3c7611da_2c92_11ec_8d21_9828a63677ebrow0_col0\" class=\"data row0 col0\" >01/01/00</td>\n",
       "                        <td id=\"T_3c7611da_2c92_11ec_8d21_9828a63677ebrow0_col1\" class=\"data row0 col1\" >Rp 1700000.00</td>\n",
       "                        <td id=\"T_3c7611da_2c92_11ec_8d21_9828a63677ebrow0_col2\" class=\"data row0 col2\" >Rp 50000.00</td>\n",
       "            </tr>\n",
       "            <tr>\n",
       "                        <th id=\"T_3c7611da_2c92_11ec_8d21_9828a63677eblevel0_row1\" class=\"row_heading level0 row1\" >1</th>\n",
       "                        <td id=\"T_3c7611da_2c92_11ec_8d21_9828a63677ebrow1_col0\" class=\"data row1 col0\" >02/01/00</td>\n",
       "                        <td id=\"T_3c7611da_2c92_11ec_8d21_9828a63677ebrow1_col1\" class=\"data row1 col1\" >Rp 1300000.00</td>\n",
       "                        <td id=\"T_3c7611da_2c92_11ec_8d21_9828a63677ebrow1_col2\" class=\"data row1 col2\" >Rp 100000.00</td>\n",
       "            </tr>\n",
       "            <tr>\n",
       "                        <th id=\"T_3c7611da_2c92_11ec_8d21_9828a63677eblevel0_row2\" class=\"row_heading level0 row2\" >2</th>\n",
       "                        <td id=\"T_3c7611da_2c92_11ec_8d21_9828a63677ebrow2_col0\" class=\"data row2 col0\" >03/01/00</td>\n",
       "                        <td id=\"T_3c7611da_2c92_11ec_8d21_9828a63677ebrow2_col1\" class=\"data row2 col1\" >Rp 1600000.00</td>\n",
       "                        <td id=\"T_3c7611da_2c92_11ec_8d21_9828a63677ebrow2_col2\" class=\"data row2 col2\" >Rp 130000.00</td>\n",
       "            </tr>\n",
       "            <tr>\n",
       "                        <th id=\"T_3c7611da_2c92_11ec_8d21_9828a63677eblevel0_row3\" class=\"row_heading level0 row3\" >3</th>\n",
       "                        <td id=\"T_3c7611da_2c92_11ec_8d21_9828a63677ebrow3_col0\" class=\"data row3 col0\" >04/01/00</td>\n",
       "                        <td id=\"T_3c7611da_2c92_11ec_8d21_9828a63677ebrow3_col1\" class=\"data row3 col1\" >Rp 1100000.00</td>\n",
       "                        <td id=\"T_3c7611da_2c92_11ec_8d21_9828a63677ebrow3_col2\" class=\"data row3 col2\" >Rp 80000.00</td>\n",
       "            </tr>\n",
       "            <tr>\n",
       "                        <th id=\"T_3c7611da_2c92_11ec_8d21_9828a63677eblevel0_row4\" class=\"row_heading level0 row4\" >4</th>\n",
       "                        <td id=\"T_3c7611da_2c92_11ec_8d21_9828a63677ebrow4_col0\" class=\"data row4 col0\" >05/01/00</td>\n",
       "                        <td id=\"T_3c7611da_2c92_11ec_8d21_9828a63677ebrow4_col1\" class=\"data row4 col1\" >Rp 1700000.00</td>\n",
       "                        <td id=\"T_3c7611da_2c92_11ec_8d21_9828a63677ebrow4_col2\" class=\"data row4 col2\" >Rp 120000.00</td>\n",
       "            </tr>\n",
       "    </tbody></table>"
      ],
      "text/plain": [
       "<pandas.io.formats.style.Styler at 0x2102aaf5760>"
      ]
     },
     "execution_count": 13,
     "metadata": {},
     "output_type": "execute_result"
    }
   ],
   "source": [
    "formatku = {'tanggal':'{:%d/%m/%y}', # string\n",
    "           'operasional':'Rp {:.2f}', # formatting rupiah\n",
    "           'omset':'Rp {:.2f}'}\n",
    "\n",
    "laporan = df.style.format(formatku)\n",
    "laporan"
   ]
  },
  {
   "cell_type": "code",
   "execution_count": 14,
   "metadata": {},
   "outputs": [
    {
     "data": {
      "text/plain": [
       "pandas.io.formats.style.Styler"
      ]
     },
     "execution_count": 14,
     "metadata": {},
     "output_type": "execute_result"
    }
   ],
   "source": [
    "type(laporan) # untuk mengetahui type data di atas"
   ]
  },
  {
   "cell_type": "code",
   "execution_count": 15,
   "metadata": {},
   "outputs": [
    {
     "data": {
      "text/html": [
       "<style  type=\"text/css\" >\n",
       "</style><table id=\"T_b91d3acf_2c92_11ec_abc4_9828a63677eb\" ><thead>    <tr>        <th class=\"col_heading level0 col0\" >tanggal</th>        <th class=\"col_heading level0 col1\" >omset</th>        <th class=\"col_heading level0 col2\" >operasional</th>    </tr></thead><tbody>\n",
       "                <tr>\n",
       "                                <td id=\"T_b91d3acf_2c92_11ec_abc4_9828a63677ebrow0_col0\" class=\"data row0 col0\" >01/01/00</td>\n",
       "                        <td id=\"T_b91d3acf_2c92_11ec_abc4_9828a63677ebrow0_col1\" class=\"data row0 col1\" >Rp 1700000.00</td>\n",
       "                        <td id=\"T_b91d3acf_2c92_11ec_abc4_9828a63677ebrow0_col2\" class=\"data row0 col2\" >Rp 50000.00</td>\n",
       "            </tr>\n",
       "            <tr>\n",
       "                                <td id=\"T_b91d3acf_2c92_11ec_abc4_9828a63677ebrow1_col0\" class=\"data row1 col0\" >02/01/00</td>\n",
       "                        <td id=\"T_b91d3acf_2c92_11ec_abc4_9828a63677ebrow1_col1\" class=\"data row1 col1\" >Rp 1300000.00</td>\n",
       "                        <td id=\"T_b91d3acf_2c92_11ec_abc4_9828a63677ebrow1_col2\" class=\"data row1 col2\" >Rp 100000.00</td>\n",
       "            </tr>\n",
       "            <tr>\n",
       "                                <td id=\"T_b91d3acf_2c92_11ec_abc4_9828a63677ebrow2_col0\" class=\"data row2 col0\" >03/01/00</td>\n",
       "                        <td id=\"T_b91d3acf_2c92_11ec_abc4_9828a63677ebrow2_col1\" class=\"data row2 col1\" >Rp 1600000.00</td>\n",
       "                        <td id=\"T_b91d3acf_2c92_11ec_abc4_9828a63677ebrow2_col2\" class=\"data row2 col2\" >Rp 130000.00</td>\n",
       "            </tr>\n",
       "            <tr>\n",
       "                                <td id=\"T_b91d3acf_2c92_11ec_abc4_9828a63677ebrow3_col0\" class=\"data row3 col0\" >04/01/00</td>\n",
       "                        <td id=\"T_b91d3acf_2c92_11ec_abc4_9828a63677ebrow3_col1\" class=\"data row3 col1\" >Rp 1100000.00</td>\n",
       "                        <td id=\"T_b91d3acf_2c92_11ec_abc4_9828a63677ebrow3_col2\" class=\"data row3 col2\" >Rp 80000.00</td>\n",
       "            </tr>\n",
       "            <tr>\n",
       "                                <td id=\"T_b91d3acf_2c92_11ec_abc4_9828a63677ebrow4_col0\" class=\"data row4 col0\" >05/01/00</td>\n",
       "                        <td id=\"T_b91d3acf_2c92_11ec_abc4_9828a63677ebrow4_col1\" class=\"data row4 col1\" >Rp 1700000.00</td>\n",
       "                        <td id=\"T_b91d3acf_2c92_11ec_abc4_9828a63677ebrow4_col2\" class=\"data row4 col2\" >Rp 120000.00</td>\n",
       "            </tr>\n",
       "    </tbody></table>"
      ],
      "text/plain": [
       "<pandas.io.formats.style.Styler at 0x2102aaf5760>"
      ]
     },
     "execution_count": 15,
     "metadata": {},
     "output_type": "execute_result"
    }
   ],
   "source": [
    "laporan.hide_index()"
   ]
  },
  {
   "cell_type": "code",
   "execution_count": 16,
   "metadata": {},
   "outputs": [
    {
     "data": {
      "text/html": [
       "<style  type=\"text/css\" >\n",
       "</style><table id=\"T_c6e9b7f1_2c92_11ec_b0cb_9828a63677eb\" ><caption>Data Omset dan Operasional</caption><thead>    <tr>        <th class=\"col_heading level0 col0\" >tanggal</th>        <th class=\"col_heading level0 col1\" >omset</th>        <th class=\"col_heading level0 col2\" >operasional</th>    </tr></thead><tbody>\n",
       "                <tr>\n",
       "                                <td id=\"T_c6e9b7f1_2c92_11ec_b0cb_9828a63677ebrow0_col0\" class=\"data row0 col0\" >01/01/00</td>\n",
       "                        <td id=\"T_c6e9b7f1_2c92_11ec_b0cb_9828a63677ebrow0_col1\" class=\"data row0 col1\" >Rp 1700000.00</td>\n",
       "                        <td id=\"T_c6e9b7f1_2c92_11ec_b0cb_9828a63677ebrow0_col2\" class=\"data row0 col2\" >Rp 50000.00</td>\n",
       "            </tr>\n",
       "            <tr>\n",
       "                                <td id=\"T_c6e9b7f1_2c92_11ec_b0cb_9828a63677ebrow1_col0\" class=\"data row1 col0\" >02/01/00</td>\n",
       "                        <td id=\"T_c6e9b7f1_2c92_11ec_b0cb_9828a63677ebrow1_col1\" class=\"data row1 col1\" >Rp 1300000.00</td>\n",
       "                        <td id=\"T_c6e9b7f1_2c92_11ec_b0cb_9828a63677ebrow1_col2\" class=\"data row1 col2\" >Rp 100000.00</td>\n",
       "            </tr>\n",
       "            <tr>\n",
       "                                <td id=\"T_c6e9b7f1_2c92_11ec_b0cb_9828a63677ebrow2_col0\" class=\"data row2 col0\" >03/01/00</td>\n",
       "                        <td id=\"T_c6e9b7f1_2c92_11ec_b0cb_9828a63677ebrow2_col1\" class=\"data row2 col1\" >Rp 1600000.00</td>\n",
       "                        <td id=\"T_c6e9b7f1_2c92_11ec_b0cb_9828a63677ebrow2_col2\" class=\"data row2 col2\" >Rp 130000.00</td>\n",
       "            </tr>\n",
       "            <tr>\n",
       "                                <td id=\"T_c6e9b7f1_2c92_11ec_b0cb_9828a63677ebrow3_col0\" class=\"data row3 col0\" >04/01/00</td>\n",
       "                        <td id=\"T_c6e9b7f1_2c92_11ec_b0cb_9828a63677ebrow3_col1\" class=\"data row3 col1\" >Rp 1100000.00</td>\n",
       "                        <td id=\"T_c6e9b7f1_2c92_11ec_b0cb_9828a63677ebrow3_col2\" class=\"data row3 col2\" >Rp 80000.00</td>\n",
       "            </tr>\n",
       "            <tr>\n",
       "                                <td id=\"T_c6e9b7f1_2c92_11ec_b0cb_9828a63677ebrow4_col0\" class=\"data row4 col0\" >05/01/00</td>\n",
       "                        <td id=\"T_c6e9b7f1_2c92_11ec_b0cb_9828a63677ebrow4_col1\" class=\"data row4 col1\" >Rp 1700000.00</td>\n",
       "                        <td id=\"T_c6e9b7f1_2c92_11ec_b0cb_9828a63677ebrow4_col2\" class=\"data row4 col2\" >Rp 120000.00</td>\n",
       "            </tr>\n",
       "    </tbody></table>"
      ],
      "text/plain": [
       "<pandas.io.formats.style.Styler at 0x2102aaf5760>"
      ]
     },
     "execution_count": 16,
     "metadata": {},
     "output_type": "execute_result"
    }
   ],
   "source": [
    "laporan.set_caption('Data Omset dan Operasional') # untuk menyertakan judul"
   ]
  },
  {
   "cell_type": "markdown",
   "metadata": {},
   "source": [
    "- Memberikan highlight terkait nilai minimum dan maximum yang dimiliki oleh       suatu kolom"
   ]
  },
  {
   "cell_type": "code",
   "execution_count": 17,
   "metadata": {},
   "outputs": [
    {
     "data": {
      "text/html": [
       "<style  type=\"text/css\" >\n",
       "#T_0f077318_2c93_11ec_9a74_9828a63677ebrow0_col1,#T_0f077318_2c93_11ec_9a74_9828a63677ebrow4_col1{\n",
       "            background-color:  lightgreen;\n",
       "        }#T_0f077318_2c93_11ec_9a74_9828a63677ebrow0_col2{\n",
       "            background-color:  lightblue;\n",
       "        }#T_0f077318_2c93_11ec_9a74_9828a63677ebrow2_col2{\n",
       "            background-color:  grey;\n",
       "        }#T_0f077318_2c93_11ec_9a74_9828a63677ebrow3_col1{\n",
       "            background-color:  pink;\n",
       "        }</style><table id=\"T_0f077318_2c93_11ec_9a74_9828a63677eb\" ><caption>Data Omset dan Operasional</caption><thead>    <tr>        <th class=\"col_heading level0 col0\" >tanggal</th>        <th class=\"col_heading level0 col1\" >omset</th>        <th class=\"col_heading level0 col2\" >operasional</th>    </tr></thead><tbody>\n",
       "                <tr>\n",
       "                                <td id=\"T_0f077318_2c93_11ec_9a74_9828a63677ebrow0_col0\" class=\"data row0 col0\" >01/01/00</td>\n",
       "                        <td id=\"T_0f077318_2c93_11ec_9a74_9828a63677ebrow0_col1\" class=\"data row0 col1\" >Rp 1700000.00</td>\n",
       "                        <td id=\"T_0f077318_2c93_11ec_9a74_9828a63677ebrow0_col2\" class=\"data row0 col2\" >Rp 50000.00</td>\n",
       "            </tr>\n",
       "            <tr>\n",
       "                                <td id=\"T_0f077318_2c93_11ec_9a74_9828a63677ebrow1_col0\" class=\"data row1 col0\" >02/01/00</td>\n",
       "                        <td id=\"T_0f077318_2c93_11ec_9a74_9828a63677ebrow1_col1\" class=\"data row1 col1\" >Rp 1300000.00</td>\n",
       "                        <td id=\"T_0f077318_2c93_11ec_9a74_9828a63677ebrow1_col2\" class=\"data row1 col2\" >Rp 100000.00</td>\n",
       "            </tr>\n",
       "            <tr>\n",
       "                                <td id=\"T_0f077318_2c93_11ec_9a74_9828a63677ebrow2_col0\" class=\"data row2 col0\" >03/01/00</td>\n",
       "                        <td id=\"T_0f077318_2c93_11ec_9a74_9828a63677ebrow2_col1\" class=\"data row2 col1\" >Rp 1600000.00</td>\n",
       "                        <td id=\"T_0f077318_2c93_11ec_9a74_9828a63677ebrow2_col2\" class=\"data row2 col2\" >Rp 130000.00</td>\n",
       "            </tr>\n",
       "            <tr>\n",
       "                                <td id=\"T_0f077318_2c93_11ec_9a74_9828a63677ebrow3_col0\" class=\"data row3 col0\" >04/01/00</td>\n",
       "                        <td id=\"T_0f077318_2c93_11ec_9a74_9828a63677ebrow3_col1\" class=\"data row3 col1\" >Rp 1100000.00</td>\n",
       "                        <td id=\"T_0f077318_2c93_11ec_9a74_9828a63677ebrow3_col2\" class=\"data row3 col2\" >Rp 80000.00</td>\n",
       "            </tr>\n",
       "            <tr>\n",
       "                                <td id=\"T_0f077318_2c93_11ec_9a74_9828a63677ebrow4_col0\" class=\"data row4 col0\" >05/01/00</td>\n",
       "                        <td id=\"T_0f077318_2c93_11ec_9a74_9828a63677ebrow4_col1\" class=\"data row4 col1\" >Rp 1700000.00</td>\n",
       "                        <td id=\"T_0f077318_2c93_11ec_9a74_9828a63677ebrow4_col2\" class=\"data row4 col2\" >Rp 120000.00</td>\n",
       "            </tr>\n",
       "    </tbody></table>"
      ],
      "text/plain": [
       "<pandas.io.formats.style.Styler at 0x2102aaf5760>"
      ]
     },
     "execution_count": 17,
     "metadata": {},
     "output_type": "execute_result"
    }
   ],
   "source": [
    "laporan.highlight_min('omset', color='pink')\n",
    "laporan.highlight_max('omset', color='lightgreen')\n",
    "\n",
    "laporan.highlight_min('operasional', color='lightblue')\n",
    "laporan.highlight_max('operasional', color='grey')"
   ]
  },
  {
   "cell_type": "markdown",
   "metadata": {},
   "source": [
    "# #20: Menggabungkan (merge) dua Data Frame secara berdampingan"
   ]
  },
  {
   "cell_type": "markdown",
   "metadata": {},
   "source": [
    "## Import Modules"
   ]
  },
  {
   "cell_type": "markdown",
   "metadata": {},
   "source": [
    "- Kode di bawah ini untuk memberi tahu berapa versi pandas kalian"
   ]
  },
  {
   "cell_type": "code",
   "execution_count": 18,
   "metadata": {},
   "outputs": [
    {
     "name": "stdout",
     "output_type": "stream",
     "text": [
      "1.1.3\n"
     ]
    }
   ],
   "source": [
    "import pandas as pd\n",
    "\n",
    "print(pd.__version__)"
   ]
  },
  {
   "cell_type": "markdown",
   "metadata": {},
   "source": [
    "## Persiapan Data Frame"
   ]
  },
  {
   "cell_type": "markdown",
   "metadata": {},
   "source": [
    "- Data Frame pertama ditampung ke dalam variabel df1\n",
    "- Data Frame kedua ditampung ke dalam variabel df2"
   ]
  },
  {
   "cell_type": "code",
   "execution_count": 19,
   "metadata": {},
   "outputs": [
    {
     "data": {
      "text/html": [
       "<div>\n",
       "<style scoped>\n",
       "    .dataframe tbody tr th:only-of-type {\n",
       "        vertical-align: middle;\n",
       "    }\n",
       "\n",
       "    .dataframe tbody tr th {\n",
       "        vertical-align: top;\n",
       "    }\n",
       "\n",
       "    .dataframe thead th {\n",
       "        text-align: right;\n",
       "    }\n",
       "</style>\n",
       "<table border=\"1\" class=\"dataframe\">\n",
       "  <thead>\n",
       "    <tr style=\"text-align: right;\">\n",
       "      <th></th>\n",
       "      <th>col1</th>\n",
       "      <th>col2</th>\n",
       "    </tr>\n",
       "  </thead>\n",
       "  <tbody>\n",
       "    <tr>\n",
       "      <th>0</th>\n",
       "      <td>1</td>\n",
       "      <td>10</td>\n",
       "    </tr>\n",
       "    <tr>\n",
       "      <th>1</th>\n",
       "      <td>2</td>\n",
       "      <td>20</td>\n",
       "    </tr>\n",
       "    <tr>\n",
       "      <th>2</th>\n",
       "      <td>3</td>\n",
       "      <td>30</td>\n",
       "    </tr>\n",
       "  </tbody>\n",
       "</table>\n",
       "</div>"
      ],
      "text/plain": [
       "   col1  col2\n",
       "0     1    10\n",
       "1     2    20\n",
       "2     3    30"
      ]
     },
     "execution_count": 19,
     "metadata": {},
     "output_type": "execute_result"
    }
   ],
   "source": [
    "d1 = {'col1':[1, 2, 3],\n",
    "      'col2':[10, 20, 30]}\n",
    "df1 = pd.DataFrame(d1)\n",
    "df1"
   ]
  },
  {
   "cell_type": "code",
   "execution_count": 20,
   "metadata": {},
   "outputs": [
    {
     "data": {
      "text/html": [
       "<div>\n",
       "<style scoped>\n",
       "    .dataframe tbody tr th:only-of-type {\n",
       "        vertical-align: middle;\n",
       "    }\n",
       "\n",
       "    .dataframe tbody tr th {\n",
       "        vertical-align: top;\n",
       "    }\n",
       "\n",
       "    .dataframe thead th {\n",
       "        text-align: right;\n",
       "    }\n",
       "</style>\n",
       "<table border=\"1\" class=\"dataframe\">\n",
       "  <thead>\n",
       "    <tr style=\"text-align: right;\">\n",
       "      <th></th>\n",
       "      <th>col3</th>\n",
       "      <th>col4</th>\n",
       "    </tr>\n",
       "  </thead>\n",
       "  <tbody>\n",
       "    <tr>\n",
       "      <th>0</th>\n",
       "      <td>4</td>\n",
       "      <td>40</td>\n",
       "    </tr>\n",
       "    <tr>\n",
       "      <th>1</th>\n",
       "      <td>5</td>\n",
       "      <td>50</td>\n",
       "    </tr>\n",
       "    <tr>\n",
       "      <th>2</th>\n",
       "      <td>6</td>\n",
       "      <td>60</td>\n",
       "    </tr>\n",
       "  </tbody>\n",
       "</table>\n",
       "</div>"
      ],
      "text/plain": [
       "   col3  col4\n",
       "0     4    40\n",
       "1     5    50\n",
       "2     6    60"
      ]
     },
     "execution_count": 20,
     "metadata": {},
     "output_type": "execute_result"
    }
   ],
   "source": [
    "d2 = {'col3':[4, 5, 6],\n",
    "      'col4':[40, 50, 60]}\n",
    "df2 = pd.DataFrame(d2)\n",
    "df2"
   ]
  },
  {
   "cell_type": "markdown",
   "metadata": {},
   "source": [
    "## Menggabungkan (merge) dua Data Frame secara berdampingan"
   ]
  },
  {
   "cell_type": "markdown",
   "metadata": {},
   "source": [
    "- Penggabungan atau merge dua data frame yang sifatnya ke samping"
   ]
  },
  {
   "cell_type": "code",
   "execution_count": 21,
   "metadata": {},
   "outputs": [
    {
     "data": {
      "text/html": [
       "<div>\n",
       "<style scoped>\n",
       "    .dataframe tbody tr th:only-of-type {\n",
       "        vertical-align: middle;\n",
       "    }\n",
       "\n",
       "    .dataframe tbody tr th {\n",
       "        vertical-align: top;\n",
       "    }\n",
       "\n",
       "    .dataframe thead th {\n",
       "        text-align: right;\n",
       "    }\n",
       "</style>\n",
       "<table border=\"1\" class=\"dataframe\">\n",
       "  <thead>\n",
       "    <tr style=\"text-align: right;\">\n",
       "      <th></th>\n",
       "      <th>col1</th>\n",
       "      <th>col2</th>\n",
       "      <th>col3</th>\n",
       "      <th>col4</th>\n",
       "    </tr>\n",
       "  </thead>\n",
       "  <tbody>\n",
       "    <tr>\n",
       "      <th>0</th>\n",
       "      <td>1</td>\n",
       "      <td>10</td>\n",
       "      <td>4</td>\n",
       "      <td>40</td>\n",
       "    </tr>\n",
       "    <tr>\n",
       "      <th>1</th>\n",
       "      <td>2</td>\n",
       "      <td>20</td>\n",
       "      <td>5</td>\n",
       "      <td>50</td>\n",
       "    </tr>\n",
       "    <tr>\n",
       "      <th>2</th>\n",
       "      <td>3</td>\n",
       "      <td>30</td>\n",
       "      <td>6</td>\n",
       "      <td>60</td>\n",
       "    </tr>\n",
       "  </tbody>\n",
       "</table>\n",
       "</div>"
      ],
      "text/plain": [
       "   col1  col2  col3  col4\n",
       "0     1    10     4    40\n",
       "1     2    20     5    50\n",
       "2     3    30     6    60"
      ]
     },
     "execution_count": 21,
     "metadata": {},
     "output_type": "execute_result"
    }
   ],
   "source": [
    "df = pd.merge(df1, df2, left_index=True, right_index=True)\n",
    "df"
   ]
  }
 ],
 "metadata": {
  "hide_input": false,
  "kernelspec": {
   "display_name": "Python 3",
   "language": "python",
   "name": "python3"
  },
  "language_info": {
   "codemirror_mode": {
    "name": "ipython",
    "version": 3
   },
   "file_extension": ".py",
   "mimetype": "text/x-python",
   "name": "python",
   "nbconvert_exporter": "python",
   "pygments_lexer": "ipython3",
   "version": "3.8.5"
  }
 },
 "nbformat": 4,
 "nbformat_minor": 4
}
